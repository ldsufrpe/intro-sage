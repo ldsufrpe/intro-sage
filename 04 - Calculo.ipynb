{
 "cells": [
  {
   "cell_type": "markdown",
   "metadata": {},
   "source": [
    "# Calculo Diferencial e Integral\n",
    "\n",
    "## Limites\n",
    "Para Calcular limites podemos usar o metodo ${\\bf limit}$"
   ]
  },
  {
   "cell_type": "code",
   "execution_count": 1,
   "metadata": {
    "collapsed": false,
    "jupyter": {
     "outputs_hidden": false
    }
   },
   "outputs": [],
   "source": [
    "f = (x^5-32)/(x-2)"
   ]
  },
  {
   "cell_type": "code",
   "execution_count": 2,
   "metadata": {
    "collapsed": false,
    "jupyter": {
     "outputs_hidden": false
    }
   },
   "outputs": [
    {
     "data": {
      "text/plain": [
       "x |--> 80"
      ]
     },
     "execution_count": 2,
     "metadata": {},
     "output_type": "execute_result"
    }
   ],
   "source": [
    "limit(f, x=2)"
   ]
  },
  {
   "cell_type": "markdown",
   "metadata": {},
   "source": [
    "Podemos já usar a propria formula dentro do limite como segue abaixo,(no caso em que as variaveis não são $x$ lembre-se de defini-las)"
   ]
  },
  {
   "cell_type": "code",
   "execution_count": 3,
   "metadata": {
    "collapsed": false,
    "jupyter": {
     "outputs_hidden": false
    }
   },
   "outputs": [
    {
     "data": {
      "text/plain": [
       "1"
      ]
     },
     "execution_count": 3,
     "metadata": {},
     "output_type": "execute_result"
    }
   ],
   "source": [
    "t=var('t')\n",
    "limit(sin(t)/t, t=0)"
   ]
  },
  {
   "cell_type": "markdown",
   "metadata": {},
   "source": [
    "Tambem é possivel a sintaxe a seguir"
   ]
  },
  {
   "cell_type": "code",
   "execution_count": 4,
   "metadata": {
    "collapsed": false,
    "jupyter": {
     "outputs_hidden": false
    }
   },
   "outputs": [
    {
     "data": {
      "text/plain": [
       "t |--> 0"
      ]
     },
     "execution_count": 4,
     "metadata": {},
     "output_type": "execute_result"
    }
   ],
   "source": [
    "f(t)=(1-cos(t))/t;\n",
    "f.limit(t=0)"
   ]
  },
  {
   "cell_type": "code",
   "execution_count": 5,
   "metadata": {
    "collapsed": false,
    "jupyter": {
     "outputs_hidden": false
    }
   },
   "outputs": [
    {
     "data": {
      "text/plain": [
       "4"
      ]
     },
     "execution_count": 5,
     "metadata": {},
     "output_type": "execute_result"
    }
   ],
   "source": [
    "h=var('h')\n",
    "limit(((2+h)^2-2^2)/h,h=0)"
   ]
  },
  {
   "cell_type": "markdown",
   "metadata": {},
   "source": [
    "Limites laterais e limites no Infinito tambem podem ser calculados seguindo o mesmo padrão."
   ]
  },
  {
   "cell_type": "code",
   "execution_count": 6,
   "metadata": {
    "collapsed": false,
    "jupyter": {
     "outputs_hidden": false
    }
   },
   "outputs": [],
   "source": [
    "f(x)=(1+1/x)^x"
   ]
  },
  {
   "cell_type": "code",
   "execution_count": 7,
   "metadata": {
    "collapsed": false,
    "jupyter": {
     "outputs_hidden": false
    }
   },
   "outputs": [
    {
     "data": {
      "text/plain": [
       "x |--> e"
      ]
     },
     "execution_count": 7,
     "metadata": {},
     "output_type": "execute_result"
    }
   ],
   "source": [
    "limit(f, x=+infinity) # mais infinito"
   ]
  },
  {
   "cell_type": "code",
   "execution_count": 8,
   "metadata": {
    "collapsed": false,
    "jupyter": {
     "outputs_hidden": false
    }
   },
   "outputs": [
    {
     "data": {
      "text/plain": [
       "x |--> e"
      ]
     },
     "execution_count": 8,
     "metadata": {},
     "output_type": "execute_result"
    }
   ],
   "source": [
    "limit(f,x=+infinity) # mais infinito"
   ]
  },
  {
   "cell_type": "code",
   "execution_count": 9,
   "metadata": {
    "collapsed": false,
    "jupyter": {
     "outputs_hidden": false
    }
   },
   "outputs": [
    {
     "data": {
      "text/plain": [
       "0"
      ]
     },
     "execution_count": 9,
     "metadata": {},
     "output_type": "execute_result"
    }
   ],
   "source": [
    "limit(1/x,x=+infinity) # mais infinito"
   ]
  },
  {
   "cell_type": "code",
   "execution_count": 10,
   "metadata": {
    "collapsed": false,
    "jupyter": {
     "outputs_hidden": false
    }
   },
   "outputs": [
    {
     "data": {
      "text/plain": [
       "1"
      ]
     },
     "execution_count": 10,
     "metadata": {},
     "output_type": "execute_result"
    }
   ],
   "source": [
    "limit(x^x,x=0, dir='+') # à direita de zero "
   ]
  },
  {
   "cell_type": "code",
   "execution_count": 11,
   "metadata": {
    "collapsed": false,
    "jupyter": {
     "outputs_hidden": false
    }
   },
   "outputs": [
    {
     "data": {
      "text/plain": [
       "+Infinity"
      ]
     },
     "execution_count": 11,
     "metadata": {},
     "output_type": "execute_result"
    }
   ],
   "source": [
    "limit(tan(x),x=pi/2, dir='-') # à esquerda de pi/2"
   ]
  },
  {
   "cell_type": "code",
   "execution_count": 12,
   "metadata": {
    "collapsed": false,
    "jupyter": {
     "outputs_hidden": false
    }
   },
   "outputs": [
    {
     "data": {
      "text/plain": [
       "-Infinity"
      ]
     },
     "execution_count": 12,
     "metadata": {},
     "output_type": "execute_result"
    }
   ],
   "source": [
    "limit(tan(x),x=pi/2, dir='+') # à direita de pi/2"
   ]
  },
  {
   "cell_type": "code",
   "execution_count": 13,
   "metadata": {
    "collapsed": false,
    "jupyter": {
     "outputs_hidden": false
    }
   },
   "outputs": [
    {
     "data": {
      "text/plain": [
       "e^2"
      ]
     },
     "execution_count": 13,
     "metadata": {},
     "output_type": "execute_result"
    }
   ],
   "source": [
    "limit((1 + sin(2*x))^(1/x),x=0) # limite existe"
   ]
  },
  {
   "cell_type": "code",
   "execution_count": 14,
   "metadata": {
    "collapsed": false,
    "jupyter": {
     "outputs_hidden": false
    }
   },
   "outputs": [
    {
     "data": {
      "text/plain": [
       "ind"
      ]
     },
     "execution_count": 14,
     "metadata": {},
     "output_type": "execute_result"
    }
   ],
   "source": [
    "limit(cos(1/x^2), x=0) # indefinido"
   ]
  },
  {
   "cell_type": "code",
   "execution_count": 15,
   "metadata": {
    "collapsed": false,
    "jupyter": {
     "outputs_hidden": false
    }
   },
   "outputs": [
    {
     "data": {
      "text/plain": [
       "+Infinity"
      ]
     },
     "execution_count": 15,
     "metadata": {},
     "output_type": "execute_result"
    }
   ],
   "source": [
    "limit(1/x^2,x=0) # limite infinito"
   ]
  },
  {
   "cell_type": "markdown",
   "metadata": {},
   "source": [
    "Calcule o seguintes limites:\n",
    "\n",
    "1.$\\lim_{x \\to 1}\\frac{x^3-x^2+x-1}{x-1}$\n",
    "\n",
    "2.$\\lim_{x \\to 1^+}\\frac{\\sqrt{x}-1}{x-1}$\n",
    "\n",
    "3.$\\lim_{x \\to 1}\\arcsin(\\frac{1-\\sqrt{x}}{1-x})$\n",
    "\n",
    "4.$\\lim_{x \\to \\infty}(\\frac{x^2-1}{x^2+1})$\n",
    "\n",
    "5.$\\lim_{x \\to +\\infty}(x-\\sqrt{(x^2-x)})$"
   ]
  },
  {
   "cell_type": "markdown",
   "metadata": {},
   "source": [
    "# Derivadas\n",
    "Podemos usar o Sage para calcular derivadas de varios modos, abaixo seguem algumas."
   ]
  },
  {
   "cell_type": "code",
   "execution_count": 16,
   "metadata": {
    "collapsed": false,
    "jupyter": {
     "outputs_hidden": false
    }
   },
   "outputs": [],
   "source": [
    "f(x) = x^2"
   ]
  },
  {
   "cell_type": "code",
   "execution_count": 17,
   "metadata": {
    "collapsed": false,
    "jupyter": {
     "outputs_hidden": false
    }
   },
   "outputs": [
    {
     "data": {
      "text/plain": [
       "x |--> 2*x"
      ]
     },
     "execution_count": 17,
     "metadata": {},
     "output_type": "execute_result"
    }
   ],
   "source": [
    "diff(f, x)"
   ]
  },
  {
   "cell_type": "code",
   "execution_count": 18,
   "metadata": {
    "collapsed": false,
    "jupyter": {
     "outputs_hidden": false
    }
   },
   "outputs": [
    {
     "data": {
      "text/plain": [
       "x |--> 2*x"
      ]
     },
     "execution_count": 18,
     "metadata": {},
     "output_type": "execute_result"
    }
   ],
   "source": [
    "f.diff(x)"
   ]
  },
  {
   "cell_type": "markdown",
   "metadata": {},
   "source": [
    "Derivadas de **Ordem Superior** podem ser calculadas simplesmente indicando a ordem. Vejamos:"
   ]
  },
  {
   "cell_type": "code",
   "execution_count": 19,
   "metadata": {
    "collapsed": false,
    "jupyter": {
     "outputs_hidden": false
    }
   },
   "outputs": [],
   "source": [
    "g(x) = x^10"
   ]
  },
  {
   "cell_type": "code",
   "execution_count": 20,
   "metadata": {
    "collapsed": false,
    "jupyter": {
     "outputs_hidden": false
    }
   },
   "outputs": [
    {
     "data": {
      "text/plain": [
       "(x |--> 10*x^9, x |--> 90*x^8, x |--> 720*x^7)"
      ]
     },
     "execution_count": 20,
     "metadata": {},
     "output_type": "execute_result"
    }
   ],
   "source": [
    "diff(g,x),diff(g,x,2),diff(g,x,3)"
   ]
  },
  {
   "cell_type": "markdown",
   "metadata": {},
   "source": [
    "Ou usando a seguinte sintaxe."
   ]
  },
  {
   "cell_type": "code",
   "execution_count": 21,
   "metadata": {
    "collapsed": false,
    "jupyter": {
     "outputs_hidden": false
    }
   },
   "outputs": [
    {
     "data": {
      "text/plain": [
       "(x |--> 10*x^9, x |--> 90*x^8, x |--> 720*x^7)"
      ]
     },
     "execution_count": 21,
     "metadata": {},
     "output_type": "execute_result"
    }
   ],
   "source": [
    "diff(g,x),diff(g,x,x),diff(g,x,x,x)"
   ]
  },
  {
   "cell_type": "markdown",
   "metadata": {},
   "source": [
    "Derivadas implicitas também podem ser calculas com o metodo **implicit_derivative**."
   ]
  },
  {
   "cell_type": "code",
   "execution_count": 22,
   "metadata": {
    "collapsed": false,
    "jupyter": {
     "outputs_hidden": false
    }
   },
   "outputs": [
    {
     "data": {
      "text/html": [
       "<html><script type=\"math/tex; mode=display\">\\newcommand{\\Bold}[1]{\\mathbf{#1}}\\frac{x^{3}}{y^{3}}</script></html>"
      ],
      "text/plain": [
       "x^3/y^3"
      ]
     },
     "execution_count": 22,
     "metadata": {},
     "output_type": "execute_result"
    }
   ],
   "source": [
    "x,y=var('x,y')\n",
    "f=x^4-y^4\n",
    "show(f.implicit_derivative(y,x))"
   ]
  },
  {
   "cell_type": "markdown",
   "metadata": {},
   "source": [
    "Tambem é possivel calcular derivadas implicitas usando diretamente o metodo ${\\bf diff}$. Vejamos o exemplo que segue:"
   ]
  },
  {
   "cell_type": "code",
   "execution_count": 23,
   "metadata": {
    "collapsed": false,
    "jupyter": {
     "outputs_hidden": false
    }
   },
   "outputs": [
    {
     "data": {
      "text/html": [
       "<html><script type=\"math/tex; mode=display\">\\newcommand{\\Bold}[1]{\\mathbf{#1}}-4 \\, y\\left(x\\right)^{3} \\frac{\\partial}{\\partial x}y\\left(x\\right) + 4 \\, x^{3} = 0</script></html>"
      ],
      "text/plain": [
       "-4*y(x)^3*diff(y(x), x) + 4*x^3 == 0"
      ]
     },
     "execution_count": 23,
     "metadata": {},
     "output_type": "execute_result"
    }
   ],
   "source": [
    "x=var('x')\n",
    "y=function('y')(x)\n",
    "show(diff(x^4-y^4==0,x))"
   ]
  },
  {
   "cell_type": "code",
   "execution_count": 24,
   "metadata": {
    "collapsed": false,
    "jupyter": {
     "outputs_hidden": false
    }
   },
   "outputs": [
    {
     "data": {
      "text/plain": [
       "-4*y(x)^3*diff(y(x), x) + 4*x^3 == 0"
      ]
     },
     "execution_count": 24,
     "metadata": {},
     "output_type": "execute_result"
    }
   ],
   "source": [
    "diff(x^4-y^4==0,x)"
   ]
  },
  {
   "cell_type": "markdown",
   "metadata": {},
   "source": [
    "Derivadas parciais são calculadas indicando a variavel na qual está se tomando a derivada."
   ]
  },
  {
   "cell_type": "code",
   "execution_count": 25,
   "metadata": {
    "collapsed": false,
    "jupyter": {
     "outputs_hidden": false
    }
   },
   "outputs": [],
   "source": [
    "x,y,t,z,w=var('x,y,t,z,w')"
   ]
  },
  {
   "cell_type": "code",
   "execution_count": 26,
   "metadata": {
    "collapsed": false,
    "jupyter": {
     "outputs_hidden": false
    }
   },
   "outputs": [],
   "source": [
    "F(x,y,z)=e^x+cos(x*y)+2*z^(17)"
   ]
  },
  {
   "cell_type": "code",
   "execution_count": 27,
   "metadata": {
    "collapsed": false,
    "jupyter": {
     "outputs_hidden": false
    }
   },
   "outputs": [
    {
     "data": {
      "text/plain": [
       "(x, y, z) |--> 34*z^16"
      ]
     },
     "execution_count": 27,
     "metadata": {},
     "output_type": "execute_result"
    }
   ],
   "source": [
    "diff(F,z)"
   ]
  },
  {
   "cell_type": "markdown",
   "metadata": {},
   "source": [
    "Aqui uma opção seria calcular o **gradiente.**"
   ]
  },
  {
   "cell_type": "code",
   "execution_count": 28,
   "metadata": {
    "collapsed": false,
    "jupyter": {
     "outputs_hidden": false
    }
   },
   "outputs": [
    {
     "data": {
      "text/plain": [
       "(x, y, z) |--> (-y*sin(x*y) + e^x, -x*sin(x*y), 34*z^16)"
      ]
     },
     "execution_count": 28,
     "metadata": {},
     "output_type": "execute_result"
    }
   ],
   "source": [
    "F.gradient()"
   ]
  },
  {
   "cell_type": "markdown",
   "metadata": {},
   "source": [
    "Além disso, o Sage possui implementados os metodos ${\\bf jacobian}$ e ${\\bf hessian}$ para funções de varias variaveis."
   ]
  },
  {
   "cell_type": "code",
   "execution_count": 29,
   "metadata": {
    "collapsed": false,
    "jupyter": {
     "outputs_hidden": false
    }
   },
   "outputs": [],
   "source": [
    "G=(x^2+y^2,x+cos(y),z+2*x+3*y)"
   ]
  },
  {
   "cell_type": "code",
   "execution_count": 30,
   "metadata": {
    "collapsed": false,
    "jupyter": {
     "outputs_hidden": false
    }
   },
   "outputs": [
    {
     "data": {
      "text/html": [
       "<html><script type=\"math/tex; mode=display\">\\newcommand{\\Bold}[1]{\\mathbf{#1}}\\left(\\begin{array}{rrr}\n",
       "2 \\, x & 2 \\, y & 0 \\\\\n",
       "1 & -\\sin\\left(y\\right) & 0 \\\\\n",
       "2 & 3 & 1\n",
       "\\end{array}\\right)</script></html>"
      ],
      "text/plain": [
       "[    2*x     2*y       0]\n",
       "[      1 -sin(y)       0]\n",
       "[      2       3       1]"
      ]
     },
     "execution_count": 30,
     "metadata": {},
     "output_type": "execute_result"
    }
   ],
   "source": [
    "show(jacobian(G,(x,y,z)))"
   ]
  },
  {
   "cell_type": "code",
   "execution_count": 31,
   "metadata": {
    "collapsed": false,
    "jupyter": {
     "outputs_hidden": false
    }
   },
   "outputs": [
    {
     "data": {
      "text/html": [
       "<html><script type=\"math/tex; mode=display\">\\newcommand{\\Bold}[1]{\\mathbf{#1}}\\left(\\begin{array}{rrr}\n",
       "\\left( x, y, z \\right) \\ {\\mapsto} \\ -y^{2} \\cos\\left(x y\\right) + e^{x} & \\left( x, y, z \\right) \\ {\\mapsto} \\ -x y \\cos\\left(x y\\right) - \\sin\\left(x y\\right) & \\left( x, y, z \\right) \\ {\\mapsto} \\ 0 \\\\\n",
       "\\left( x, y, z \\right) \\ {\\mapsto} \\ -x y \\cos\\left(x y\\right) - \\sin\\left(x y\\right) & \\left( x, y, z \\right) \\ {\\mapsto} \\ -x^{2} \\cos\\left(x y\\right) & \\left( x, y, z \\right) \\ {\\mapsto} \\ 0 \\\\\n",
       "\\left( x, y, z \\right) \\ {\\mapsto} \\ 0 & \\left( x, y, z \\right) \\ {\\mapsto} \\ 0 & \\left( x, y, z \\right) \\ {\\mapsto} \\ 544 \\, z^{15}\n",
       "\\end{array}\\right)</script></html>"
      ],
      "text/plain": [
       "[     (x, y, z) |--> -y^2*cos(x*y) + e^x (x, y, z) |--> -x*y*cos(x*y) - sin(x*y)                        (x, y, z) |--> 0]\n",
       "[(x, y, z) |--> -x*y*cos(x*y) - sin(x*y)            (x, y, z) |--> -x^2*cos(x*y)                        (x, y, z) |--> 0]\n",
       "[                       (x, y, z) |--> 0                        (x, y, z) |--> 0                 (x, y, z) |--> 544*z^15]"
      ]
     },
     "execution_count": 31,
     "metadata": {},
     "output_type": "execute_result"
    }
   ],
   "source": [
    "show(F.hessian())"
   ]
  },
  {
   "cell_type": "code",
   "execution_count": 32,
   "metadata": {
    "collapsed": false,
    "jupyter": {
     "outputs_hidden": false
    }
   },
   "outputs": [
    {
     "data": {
      "text/html": [
       "<html><script type=\"math/tex; mode=display\">\\newcommand{\\Bold}[1]{\\mathbf{#1}}\\left(\\begin{array}{rrr}\n",
       "-y^{2} \\cos\\left(x y\\right) + e^{x} & -x y \\cos\\left(x y\\right) - \\sin\\left(x y\\right) & 0 \\\\\n",
       "-x y \\cos\\left(x y\\right) - \\sin\\left(x y\\right) & -x^{2} \\cos\\left(x y\\right) & 0 \\\\\n",
       "0 & 0 & 544 \\, z^{15}\n",
       "\\end{array}\\right)</script></html>"
      ],
      "text/plain": [
       "[     -y^2*cos(x*y) + e^x -x*y*cos(x*y) - sin(x*y)                        0]\n",
       "[-x*y*cos(x*y) - sin(x*y)            -x^2*cos(x*y)                        0]\n",
       "[                       0                        0                 544*z^15]"
      ]
     },
     "execution_count": 32,
     "metadata": {},
     "output_type": "execute_result"
    }
   ],
   "source": [
    "show(F.hessian()(x,y,z))"
   ]
  },
  {
   "cell_type": "markdown",
   "metadata": {},
   "source": [
    "Obtendo as regras de derivaçao."
   ]
  },
  {
   "cell_type": "code",
   "execution_count": 33,
   "metadata": {
    "collapsed": false,
    "jupyter": {
     "outputs_hidden": false
    }
   },
   "outputs": [],
   "source": [
    "reset()"
   ]
  },
  {
   "cell_type": "code",
   "execution_count": 34,
   "metadata": {
    "collapsed": false,
    "jupyter": {
     "outputs_hidden": false
    }
   },
   "outputs": [],
   "source": [
    "f=function('f')(x);\n"
   ]
  },
  {
   "cell_type": "code",
   "execution_count": 35,
   "metadata": {
    "collapsed": false,
    "jupyter": {
     "outputs_hidden": false
    }
   },
   "outputs": [],
   "source": [
    "g=function('g')(x);"
   ]
  },
  {
   "cell_type": "code",
   "execution_count": 36,
   "metadata": {
    "collapsed": false,
    "jupyter": {
     "outputs_hidden": false
    }
   },
   "outputs": [],
   "source": [
    "h=function('h')(x);"
   ]
  },
  {
   "cell_type": "code",
   "execution_count": 37,
   "metadata": {
    "collapsed": false,
    "jupyter": {
     "outputs_hidden": false
    }
   },
   "outputs": [
    {
     "data": {
      "text/plain": [
       "g(x)*diff(f(x), x) + f(x)*diff(g(x), x)"
      ]
     },
     "execution_count": 37,
     "metadata": {},
     "output_type": "execute_result"
    }
   ],
   "source": [
    "diff(f*g,x)"
   ]
  },
  {
   "cell_type": "markdown",
   "metadata": {},
   "source": [
    "## Exercício"
   ]
  },
  {
   "cell_type": "markdown",
   "metadata": {},
   "source": [
    "Exercicio.\n",
    "Encontre formulas para as seguintes derivadas.\n",
    "\n",
    "1.(f.g.h)'\n",
    "\n",
    "2.(f/g)'\n",
    "\n",
    "3.(f.g/h)"
   ]
  },
  {
   "cell_type": "markdown",
   "metadata": {},
   "source": [
    "## Veja a implementação abaixo para o Teste da Segunda Derivada.\n"
   ]
  },
  {
   "cell_type": "code",
   "execution_count": 13,
   "metadata": {
    "collapsed": false,
    "jupyter": {
     "outputs_hidden": false
    }
   },
   "outputs": [],
   "source": [
    "def Teste_da_derivada_segunda2(f):\n",
    "    x=f.variables()[0]\n",
    "    print (x)\n",
    "    derivada=diff(f, x)\n",
    "    pontos_criticos=solve(derivada==0,f.variables()[0])\n",
    "    lista=[pontos_criticos[k].rhs() for k in range(len(pontos_criticos))]\n",
    "    print (lista)\n",
    "    for k in lista:\n",
    "        if diff(f, 2)(x=k)>0:\n",
    "            print ('%d eh um ponto de minimo local'%(k))\n",
    "        elif diff(f, 2)(x=k)<0:\n",
    "            print ('%d eh um ponto de maximo local'%(k))\n",
    "        else:\n",
    "            print ('para %d o teste da derivada segunda foi inconclusivo'%(k))"
   ]
  },
  {
   "cell_type": "code",
   "execution_count": 14,
   "metadata": {
    "collapsed": false,
    "jupyter": {
     "outputs_hidden": false
    },
    "scrolled": true
   },
   "outputs": [],
   "source": [
    "f = x^4-1"
   ]
  },
  {
   "cell_type": "code",
   "execution_count": 15,
   "metadata": {
    "collapsed": false,
    "jupyter": {
     "outputs_hidden": false
    }
   },
   "outputs": [
    {
     "data": {
      "text/plain": [
       "12*x^2"
      ]
     },
     "execution_count": 15,
     "metadata": {},
     "output_type": "execute_result"
    }
   ],
   "source": [
    "diff(f,f.variables()[0],2)"
   ]
  },
  {
   "cell_type": "code",
   "execution_count": 16,
   "metadata": {
    "collapsed": false,
    "jupyter": {
     "outputs_hidden": false
    }
   },
   "outputs": [
    {
     "name": "stdout",
     "output_type": "stream",
     "text": [
      "x\n",
      "[0]\n",
      "para 0 o teste da derivada segunda foi inconclusivo\n"
     ]
    }
   ],
   "source": [
    "Teste_da_derivada_segunda2(f)"
   ]
  },
  {
   "cell_type": "code",
   "execution_count": 8,
   "metadata": {
    "collapsed": false,
    "jupyter": {
     "outputs_hidden": false
    }
   },
   "outputs": [],
   "source": [
    "f=1/3*x^3-5/2*x^2+6*x+3"
   ]
  },
  {
   "cell_type": "code",
   "execution_count": 17,
   "metadata": {
    "collapsed": false,
    "jupyter": {
     "outputs_hidden": false
    }
   },
   "outputs": [
    {
     "name": "stdout",
     "output_type": "stream",
     "text": [
      "x\n",
      "[0]\n",
      "para 0 o teste da derivada segunda foi inconclusivo\n"
     ]
    }
   ],
   "source": [
    "Teste_da_derivada_segunda2(f)"
   ]
  },
  {
   "cell_type": "code",
   "execution_count": 18,
   "metadata": {
    "collapsed": false,
    "jupyter": {
     "outputs_hidden": false
    }
   },
   "outputs": [],
   "source": [
    "v = var('v')"
   ]
  },
  {
   "cell_type": "code",
   "execution_count": 19,
   "metadata": {
    "collapsed": false,
    "jupyter": {
     "outputs_hidden": false
    }
   },
   "outputs": [],
   "source": [
    "g = 1/3*v^3-5/2*v^2+6*v+3"
   ]
  },
  {
   "cell_type": "code",
   "execution_count": 20,
   "metadata": {
    "collapsed": false,
    "jupyter": {
     "outputs_hidden": false
    }
   },
   "outputs": [
    {
     "name": "stdout",
     "output_type": "stream",
     "text": [
      "v\n",
      "[3, 2]\n",
      "para 3 o teste da derivada segunda foi inconclusivo\n",
      "para 2 o teste da derivada segunda foi inconclusivo\n"
     ]
    }
   ],
   "source": [
    "Teste_da_derivada_segunda2(g)"
   ]
  },
  {
   "cell_type": "code",
   "execution_count": 21,
   "metadata": {
    "collapsed": false,
    "jupyter": {
     "outputs_hidden": false
    }
   },
   "outputs": [],
   "source": [
    "t = var('t')"
   ]
  },
  {
   "cell_type": "code",
   "execution_count": 23,
   "metadata": {
    "collapsed": false,
    "jupyter": {
     "outputs_hidden": false
    }
   },
   "outputs": [],
   "source": [
    "h = integral((t-1)*(t-2)*((t-3)^3)*(t-4),t)"
   ]
  },
  {
   "cell_type": "code",
   "execution_count": 24,
   "metadata": {
    "collapsed": false,
    "jupyter": {
     "outputs_hidden": false
    }
   },
   "outputs": [
    {
     "data": {
      "text/plain": [
       "1/7*t^7 - 8/3*t^6 + 104/5*t^5 - 175/2*t^4 + 213*t^3 - 297*t^2 + 216*t"
      ]
     },
     "execution_count": 24,
     "metadata": {},
     "output_type": "execute_result"
    }
   ],
   "source": [
    "h"
   ]
  },
  {
   "cell_type": "code",
   "execution_count": 25,
   "metadata": {
    "collapsed": false,
    "jupyter": {
     "outputs_hidden": false
    }
   },
   "outputs": [
    {
     "data": {
      "text/plain": [
       "t^6 - 16*t^5 + 104*t^4 - 350*t^3 + 639*t^2 - 594*t + 216"
      ]
     },
     "execution_count": 25,
     "metadata": {},
     "output_type": "execute_result"
    }
   ],
   "source": [
    "diff(h)"
   ]
  },
  {
   "cell_type": "code",
   "execution_count": 26,
   "metadata": {
    "collapsed": false,
    "jupyter": {
     "outputs_hidden": false
    }
   },
   "outputs": [
    {
     "name": "stdout",
     "output_type": "stream",
     "text": [
      "t\n",
      "[2, 4, 1, 3]\n",
      "para 2 o teste da derivada segunda foi inconclusivo\n",
      "para 4 o teste da derivada segunda foi inconclusivo\n",
      "para 1 o teste da derivada segunda foi inconclusivo\n",
      "para 3 o teste da derivada segunda foi inconclusivo\n"
     ]
    }
   ],
   "source": [
    "Teste_da_derivada_segunda2(h)"
   ]
  },
  {
   "cell_type": "code",
   "execution_count": 30,
   "metadata": {
    "collapsed": false,
    "jupyter": {
     "outputs_hidden": false
    }
   },
   "outputs": [],
   "source": [
    "##Observação modificando a implementação, para so calcular para funcoes na variavel x:\n",
    "def Teste_da_derivada_segunda_x(f):\n",
    "    derivada=diff(f,x)\n",
    "    pontos_criticos=solve(derivada==0,x)\n",
    "    lista=[pontos_criticos[k].rhs() for k in range(len(pontos_criticos))]\n",
    "    for k in lista:\n",
    "        if diff(f,x,2)(x=k)>0:\n",
    "            print ('%d eh um ponto de minimo local'%(k))\n",
    "        elif diff(f,x,2)(x=k)<0:\n",
    "            print ('%d eh um ponto de maximo local'%(k))\n",
    "                                                \n",
    "        else:\n",
    "            print ('para %d o teste da derivada segunda foi inconclusivo'%(k))\n"
   ]
  },
  {
   "cell_type": "code",
   "execution_count": 31,
   "metadata": {
    "collapsed": false,
    "jupyter": {
     "outputs_hidden": false
    }
   },
   "outputs": [],
   "source": [
    "f = 1-x^2"
   ]
  },
  {
   "cell_type": "code",
   "execution_count": 32,
   "metadata": {
    "collapsed": false,
    "jupyter": {
     "outputs_hidden": false
    }
   },
   "outputs": [
    {
     "name": "stdout",
     "output_type": "stream",
     "text": [
      "0 eh um ponto de maximo local\n"
     ]
    }
   ],
   "source": [
    "Teste_da_derivada_segunda_x(f)"
   ]
  },
  {
   "cell_type": "code",
   "execution_count": 34,
   "metadata": {
    "collapsed": false,
    "jupyter": {
     "outputs_hidden": false
    }
   },
   "outputs": [],
   "source": [
    "g = x^3"
   ]
  },
  {
   "cell_type": "code",
   "execution_count": 35,
   "metadata": {
    "collapsed": false,
    "jupyter": {
     "outputs_hidden": false
    }
   },
   "outputs": [
    {
     "name": "stdout",
     "output_type": "stream",
     "text": [
      "para 0 o teste da derivada segunda foi inconclusivo\n"
     ]
    }
   ],
   "source": [
    "Teste_da_derivada_segunda_x(g)"
   ]
  },
  {
   "cell_type": "markdown",
   "metadata": {},
   "source": [
    "Exercicio\n",
    "Modifique a funcao anterior Programando o teste da Primeira Derivada."
   ]
  },
  {
   "cell_type": "markdown",
   "metadata": {},
   "source": [
    "Exercicio(Avancado)\n",
    "Programe o Teste da segunda Derivada Para uma funcoes de duas variaveis $x$ e $y$. "
   ]
  },
  {
   "cell_type": "markdown",
   "metadata": {},
   "source": [
    "# INTEGRAIS\n",
    "Integrais Simples."
   ]
  },
  {
   "cell_type": "markdown",
   "metadata": {},
   "source": [
    "Um exemplo de integral indefinida simples:"
   ]
  },
  {
   "cell_type": "code",
   "execution_count": 57,
   "metadata": {
    "collapsed": false,
    "jupyter": {
     "outputs_hidden": false
    }
   },
   "outputs": [
    {
     "data": {
      "text/plain": [
       "1/3*x^3"
      ]
     },
     "execution_count": 57,
     "metadata": {},
     "output_type": "execute_result"
    }
   ],
   "source": [
    "integral(x^2, x)"
   ]
  },
  {
   "cell_type": "markdown",
   "metadata": {},
   "source": [
    "\n",
    "Um exemplo de integral definida simples:"
   ]
  },
  {
   "cell_type": "code",
   "execution_count": 58,
   "metadata": {
    "collapsed": false,
    "jupyter": {
     "outputs_hidden": false
    }
   },
   "outputs": [
    {
     "data": {
      "text/plain": [
       "1/3"
      ]
     },
     "execution_count": 58,
     "metadata": {},
     "output_type": "execute_result"
    }
   ],
   "source": [
    "integral(x^2, (x,0,1))"
   ]
  },
  {
   "cell_type": "code",
   "execution_count": 59,
   "metadata": {
    "collapsed": false,
    "jupyter": {
     "outputs_hidden": false
    }
   },
   "outputs": [
    {
     "data": {
      "text/plain": [
       "2*x*cos(x) + (x^2 - 2)*sin(x)"
      ]
     },
     "execution_count": 59,
     "metadata": {},
     "output_type": "execute_result"
    }
   ],
   "source": [
    "integral((x^2)*cos(x), x)"
   ]
  },
  {
   "cell_type": "code",
   "execution_count": 60,
   "metadata": {
    "collapsed": false,
    "jupyter": {
     "outputs_hidden": false
    }
   },
   "outputs": [
    {
     "data": {
      "text/html": [
       "<html><script type=\"math/tex; mode=display\">\\newcommand{\\Bold}[1]{\\mathbf{#1}}\\frac{1}{2} \\, \\sqrt{\\pi} \\operatorname{erf}\\left(x\\right)</script></html>"
      ],
      "text/plain": [
       "1/2*sqrt(pi)*erf(x)"
      ]
     },
     "execution_count": 60,
     "metadata": {},
     "output_type": "execute_result"
    }
   ],
   "source": [
    "show(integral(e^(-x^2), x))"
   ]
  },
  {
   "cell_type": "code",
   "execution_count": null,
   "metadata": {
    "collapsed": false,
    "jupyter": {
     "outputs_hidden": false
    }
   },
   "outputs": [],
   "source": []
  },
  {
   "cell_type": "markdown",
   "metadata": {},
   "source": [
    "Integrais improprias podem se calculadas da mesma forma (nesta caso usamos o pacote **SymPy** para melhor visualizar a resposta."
   ]
  },
  {
   "cell_type": "code",
   "execution_count": 38,
   "metadata": {
    "collapsed": false,
    "jupyter": {
     "outputs_hidden": false
    }
   },
   "outputs": [
    {
     "data": {
      "text/html": [
       "<html><script type=\"math/tex; mode=display\">\\newcommand{\\Bold}[1]{\\mathbf{#1}}+\\infty</script></html>"
      ],
      "text/latex": [
       "\\begin{math}\n",
       "\\newcommand{\\Bold}[1]{\\mathbf{#1}}+\\infty\n",
       "\\end{math}"
      ],
      "text/plain": [
       "+Infinity"
      ]
     },
     "metadata": {},
     "output_type": "display_data"
    }
   ],
   "source": [
    "show(integral(e^(x^2),(x,0,+infinity), algorithm='sympy') ) # divergente"
   ]
  },
  {
   "cell_type": "code",
   "execution_count": 39,
   "metadata": {
    "collapsed": false,
    "jupyter": {
     "outputs_hidden": false
    }
   },
   "outputs": [
    {
     "data": {
      "text/html": [
       "<html><script type=\"math/tex; mode=display\">\\newcommand{\\Bold}[1]{\\mathbf{#1}}\\frac{1}{2} \\, \\sqrt{\\pi}</script></html>"
      ],
      "text/latex": [
       "\\begin{math}\n",
       "\\newcommand{\\Bold}[1]{\\mathbf{#1}}\\frac{1}{2} \\, \\sqrt{\\pi}\n",
       "\\end{math}"
      ],
      "text/plain": [
       "1/2*sqrt(pi)"
      ]
     },
     "metadata": {},
     "output_type": "display_data"
    }
   ],
   "source": [
    "show(integral(e^(-x^2), (x,0,+infinity)))"
   ]
  },
  {
   "cell_type": "code",
   "execution_count": 40,
   "metadata": {
    "collapsed": false,
    "jupyter": {
     "outputs_hidden": false
    }
   },
   "outputs": [
    {
     "data": {
      "text/html": [
       "<html><script type=\"math/tex; mode=display\">\\newcommand{\\Bold}[1]{\\mathbf{#1}}\\frac{1}{2} \\, \\sqrt{\\pi}</script></html>"
      ],
      "text/latex": [
       "\\begin{math}\n",
       "\\newcommand{\\Bold}[1]{\\mathbf{#1}}\\frac{1}{2} \\, \\sqrt{\\pi}\n",
       "\\end{math}"
      ],
      "text/plain": [
       "1/2*sqrt(pi)"
      ]
     },
     "metadata": {},
     "output_type": "display_data"
    }
   ],
   "source": [
    "show(integral(e^(-x^2), (x,0,+oo)))"
   ]
  },
  {
   "cell_type": "markdown",
   "metadata": {},
   "source": [
    "Para calcular integrais duplas (ou multiplas simplesmente iteramos as integrais)."
   ]
  },
  {
   "cell_type": "code",
   "execution_count": 42,
   "metadata": {
    "collapsed": false,
    "jupyter": {
     "outputs_hidden": false
    }
   },
   "outputs": [
    {
     "data": {
      "text/plain": [
       "2500"
      ]
     },
     "execution_count": 42,
     "metadata": {},
     "output_type": "execute_result"
    }
   ],
   "source": [
    "var('x, y')\n",
    "integral(integral(x*y, (y,0,10)),(x,0,10))"
   ]
  },
  {
   "cell_type": "markdown",
   "metadata": {},
   "source": [
    "Podemos usar esta ideia, mesmo quando os limites de integracao são funções.\n",
    "Isto ajuda a calcular integrais entre curvas."
   ]
  },
  {
   "cell_type": "code",
   "execution_count": null,
   "metadata": {
    "collapsed": false,
    "jupyter": {
     "outputs_hidden": false
    }
   },
   "outputs": [],
   "source": [
    "#area da circunferencia de raio 2\n",
    "integral(integral(1,(y,-sqrt(4-x^2),sqrt(4-x^2))),(x,-2,2))"
   ]
  },
  {
   "cell_type": "code",
   "execution_count": null,
   "metadata": {
    "collapsed": false,
    "jupyter": {
     "outputs_hidden": false
    }
   },
   "outputs": [],
   "source": []
  },
  {
   "cell_type": "code",
   "execution_count": null,
   "metadata": {
    "collapsed": false,
    "jupyter": {
     "outputs_hidden": false
    }
   },
   "outputs": [],
   "source": []
  },
  {
   "cell_type": "markdown",
   "metadata": {},
   "source": [
    "Como calcular a área entre a reta $y=x$ e a parábola $y=x^2$"
   ]
  },
  {
   "cell_type": "code",
   "execution_count": 43,
   "metadata": {
    "collapsed": false,
    "jupyter": {
     "outputs_hidden": false
    }
   },
   "outputs": [],
   "source": [
    "f=x; g=x^2"
   ]
  },
  {
   "cell_type": "code",
   "execution_count": 44,
   "metadata": {
    "collapsed": false,
    "jupyter": {
     "outputs_hidden": false
    }
   },
   "outputs": [],
   "source": [
    "limites_de_integracao=solve(f==g,x)"
   ]
  },
  {
   "cell_type": "code",
   "execution_count": 45,
   "metadata": {
    "collapsed": false,
    "jupyter": {
     "outputs_hidden": false
    }
   },
   "outputs": [
    {
     "data": {
      "text/plain": [
       "1"
      ]
     },
     "execution_count": 45,
     "metadata": {},
     "output_type": "execute_result"
    }
   ],
   "source": [
    "integral(1,(x,limites_de_integracao[0].rhs(),limites_de_integracao[1].rhs()))"
   ]
  },
  {
   "cell_type": "markdown",
   "metadata": {},
   "source": [
    "Exercicios Calcule as seguintes Integrais:\n",
    "\n",
    "$\\int_0^1 \\sqrt{(1-x^2)}dx$\n",
    "\n",
    "$\\int \\frac{1}{\\sqrt{(1-x^2)}}dx$\n",
    "\n",
    "$\\int_0^1 \\sqrt{(1-x^2)}dx$\n",
    "\n",
    "$\\int e^{\\sin(\\theta)}\\cos(\\theta)d\\theta$"
   ]
  },
  {
   "cell_type": "markdown",
   "metadata": {},
   "source": [
    "# Integral Numerica."
   ]
  },
  {
   "cell_type": "markdown",
   "metadata": {},
   "source": [
    "Integrais Trancendentes podem ser exploradas com o metodo ${\\bf numerical\\, integral}$"
   ]
  },
  {
   "cell_type": "code",
   "execution_count": 50,
   "metadata": {
    "collapsed": false,
    "jupyter": {
     "outputs_hidden": false
    }
   },
   "outputs": [
    {
     "data": {
      "text/html": [
       "<html><script type=\"math/tex; mode=display\">\\newcommand{\\Bold}[1]{\\mathbf{#1}}-\\frac{1}{16} \\, \\sqrt{\\pi} {\\left(\\left(i - 1\\right) \\, \\sqrt{2} \\operatorname{erf}\\left(\\left(\\frac{1}{2} i + \\frac{1}{2}\\right) \\, \\sqrt{2} x\\right) + \\left(i + 1\\right) \\, \\sqrt{2} \\operatorname{erf}\\left(\\left(\\frac{1}{2} i - \\frac{1}{2}\\right) \\, \\sqrt{2} x\\right) - \\left(i + 1\\right) \\, \\sqrt{2} \\operatorname{erf}\\left(\\sqrt{-i} x\\right) + \\left(i - 1\\right) \\, \\sqrt{2} \\operatorname{erf}\\left(\\left(-1\\right)^{\\frac{1}{4}} x\\right)\\right)}</script></html>"
      ],
      "text/latex": [
       "\\begin{math}\n",
       "\\newcommand{\\Bold}[1]{\\mathbf{#1}}-\\frac{1}{16} \\, \\sqrt{\\pi} {\\left(\\left(i - 1\\right) \\, \\sqrt{2} \\operatorname{erf}\\left(\\left(\\frac{1}{2} i + \\frac{1}{2}\\right) \\, \\sqrt{2} x\\right) + \\left(i + 1\\right) \\, \\sqrt{2} \\operatorname{erf}\\left(\\left(\\frac{1}{2} i - \\frac{1}{2}\\right) \\, \\sqrt{2} x\\right) - \\left(i + 1\\right) \\, \\sqrt{2} \\operatorname{erf}\\left(\\sqrt{-i} x\\right) + \\left(i - 1\\right) \\, \\sqrt{2} \\operatorname{erf}\\left(\\left(-1\\right)^{\\frac{1}{4}} x\\right)\\right)}\n",
       "\\end{math}"
      ],
      "text/plain": [
       "-1/16*sqrt(pi)*((I - 1)*sqrt(2)*erf((1/2*I + 1/2)*sqrt(2)*x) + (I + 1)*sqrt(2)*erf((1/2*I - 1/2)*sqrt(2)*x) - (I + 1)*sqrt(2)*erf(sqrt(-I)*x) + (I - 1)*sqrt(2)*erf((-1)^(1/4)*x))"
      ]
     },
     "metadata": {},
     "output_type": "display_data"
    }
   ],
   "source": [
    "show(integral(cos(x^2), x))"
   ]
  },
  {
   "cell_type": "code",
   "execution_count": 51,
   "metadata": {
    "collapsed": false,
    "jupyter": {
     "outputs_hidden": false
    }
   },
   "outputs": [
    {
     "data": {
      "text/html": [
       "<html><script type=\"math/tex; mode=display\">\\newcommand{\\Bold}[1]{\\mathbf{#1}}-\\frac{1}{16} \\, \\sqrt{\\pi} {\\left(\\left(i - 1\\right) \\, \\sqrt{2} \\operatorname{erf}\\left(\\left(\\frac{1}{2} i + \\frac{1}{2}\\right) \\, \\sqrt{2} x\\right) + \\left(i + 1\\right) \\, \\sqrt{2} \\operatorname{erf}\\left(\\left(\\frac{1}{2} i - \\frac{1}{2}\\right) \\, \\sqrt{2} x\\right) - \\left(i + 1\\right) \\, \\sqrt{2} \\operatorname{erf}\\left(\\sqrt{-i} x\\right) + \\left(i - 1\\right) \\, \\sqrt{2} \\operatorname{erf}\\left(\\left(-1\\right)^{\\frac{1}{4}} x\\right)\\right)} x 0 \\pi</script></html>"
      ],
      "text/latex": [
       "\\begin{math}\n",
       "\\newcommand{\\Bold}[1]{\\mathbf{#1}}-\\frac{1}{16} \\, \\sqrt{\\pi} {\\left(\\left(i - 1\\right) \\, \\sqrt{2} \\operatorname{erf}\\left(\\left(\\frac{1}{2} i + \\frac{1}{2}\\right) \\, \\sqrt{2} x\\right) + \\left(i + 1\\right) \\, \\sqrt{2} \\operatorname{erf}\\left(\\left(\\frac{1}{2} i - \\frac{1}{2}\\right) \\, \\sqrt{2} x\\right) - \\left(i + 1\\right) \\, \\sqrt{2} \\operatorname{erf}\\left(\\sqrt{-i} x\\right) + \\left(i - 1\\right) \\, \\sqrt{2} \\operatorname{erf}\\left(\\left(-1\\right)^{\\frac{1}{4}} x\\right)\\right)} x 0 \\pi\n",
       "\\end{math}"
      ],
      "text/plain": [
       "-1/16*sqrt(pi)*((I - 1)*sqrt(2)*erf((1/2*I + 1/2)*sqrt(2)*x) + (I + 1)*sqrt(2)*erf((1/2*I - 1/2)*sqrt(2)*x) - (I + 1)*sqrt(2)*erf(sqrt(-I)*x) + (I - 1)*sqrt(2)*erf((-1)^(1/4)*x)) x 0 pi"
      ]
     },
     "metadata": {},
     "output_type": "display_data"
    }
   ],
   "source": [
    "show(integral(cos(x^2), x),x,0,pi)"
   ]
  },
  {
   "cell_type": "code",
   "execution_count": 52,
   "metadata": {
    "collapsed": false,
    "jupyter": {
     "outputs_hidden": false
    }
   },
   "outputs": [
    {
     "data": {
      "text/html": [
       "<html><script type=\"math/tex; mode=display\">\\newcommand{\\Bold}[1]{\\mathbf{#1}}\\left(0.5656935136066829, 2.433299333913371 \\times 10^{-14}\\right)</script></html>"
      ],
      "text/latex": [
       "\\begin{math}\n",
       "\\newcommand{\\Bold}[1]{\\mathbf{#1}}\\left(0.5656935136066829, 2.433299333913371 \\times 10^{-14}\\right)\n",
       "\\end{math}"
      ],
      "text/plain": [
       "(0.5656935136066829, 2.433299333913371e-14)"
      ]
     },
     "metadata": {},
     "output_type": "display_data"
    }
   ],
   "source": [
    "show(numerical_integral(cos(x^2),0,pi))##Saida= (valor da Integral, Precisao da Aproximacao)"
   ]
  },
  {
   "cell_type": "code",
   "execution_count": null,
   "metadata": {
    "collapsed": false,
    "jupyter": {
     "outputs_hidden": false
    }
   },
   "outputs": [],
   "source": []
  },
  {
   "cell_type": "code",
   "execution_count": null,
   "metadata": {
    "collapsed": false,
    "jupyter": {
     "outputs_hidden": false
    }
   },
   "outputs": [],
   "source": []
  },
  {
   "cell_type": "markdown",
   "metadata": {},
   "source": [
    "Exercicio. Usando os métodos, ${\\bf numerical integral}$ e ${\\bf integral}$, calcule as seguintes integrais entre 1 e 10.\n",
    "\n",
    "$1.\\int e^{x^2} dx$\n",
    "\n",
    "$2.\\int \\frac{e^{x}}{x} dx$\n",
    "\n",
    "$3.\\int e^{e^{x}} dx$ depois recalcule este item no intervalo $[0,1]$\n",
    "\n",
    "$4.\\int \\frac{\\sin({x})}{x} dx$\n",
    "\n",
    "$4.\\int \\frac{\\ln({x})}{x^2+1} dx$\n",
    "\n"
   ]
  },
  {
   "cell_type": "code",
   "execution_count": null,
   "metadata": {
    "collapsed": false,
    "jupyter": {
     "outputs_hidden": false
    }
   },
   "outputs": [],
   "source": [
    "show(integral(exp(x^2),x,1,10))"
   ]
  },
  {
   "cell_type": "code",
   "execution_count": null,
   "metadata": {
    "collapsed": false,
    "jupyter": {
     "outputs_hidden": false
    }
   },
   "outputs": [],
   "source": [
    "show(integral(exp(x)/x,x,1,10))"
   ]
  },
  {
   "cell_type": "code",
   "execution_count": null,
   "metadata": {
    "collapsed": false,
    "jupyter": {
     "outputs_hidden": false
    }
   },
   "outputs": [],
   "source": [
    "show(integral(exp(exp(x)),x,1,10))"
   ]
  },
  {
   "cell_type": "code",
   "execution_count": null,
   "metadata": {
    "collapsed": false,
    "jupyter": {
     "outputs_hidden": false
    }
   },
   "outputs": [],
   "source": [
    "show(integral(sin(x)/x,x,1,10))"
   ]
  },
  {
   "cell_type": "code",
   "execution_count": null,
   "metadata": {
    "collapsed": false,
    "jupyter": {
     "outputs_hidden": false
    }
   },
   "outputs": [],
   "source": [
    "show(integral(ln(x)/(x^2+1),x,1,10))"
   ]
  },
  {
   "cell_type": "code",
   "execution_count": null,
   "metadata": {
    "collapsed": false,
    "jupyter": {
     "outputs_hidden": false
    }
   },
   "outputs": [],
   "source": []
  },
  {
   "cell_type": "code",
   "execution_count": null,
   "metadata": {
    "collapsed": false,
    "jupyter": {
     "outputs_hidden": false
    }
   },
   "outputs": [],
   "source": []
  },
  {
   "cell_type": "code",
   "execution_count": null,
   "metadata": {
    "collapsed": false,
    "jupyter": {
     "outputs_hidden": false
    }
   },
   "outputs": [],
   "source": []
  },
  {
   "cell_type": "markdown",
   "metadata": {},
   "source": [
    "# Serie de Taylor e Maclaurin.\n",
    "Para calcular a serie de Taylor de uma uma funcao podemos usar os metodos ${\\bf taylor }$,${\\bf series}$"
   ]
  },
  {
   "cell_type": "code",
   "execution_count": null,
   "metadata": {
    "collapsed": false,
    "jupyter": {
     "outputs_hidden": false
    }
   },
   "outputs": [],
   "source": [
    "show(taylor(exp(x), x, 0, 10))"
   ]
  },
  {
   "cell_type": "code",
   "execution_count": null,
   "metadata": {
    "collapsed": false,
    "jupyter": {
     "outputs_hidden": false
    }
   },
   "outputs": [],
   "source": [
    "show((exp(x)).series(x, 10))"
   ]
  },
  {
   "cell_type": "markdown",
   "metadata": {},
   "source": [
    "## Exercício\n",
    "\n",
    "1. Calcule a serie de Taylor de $\\cos(x)$.\n",
    "\n",
    "2. Calcule a serie de Taylor de $\\sin(x)$.\n",
    "\n",
    "3. Calcule a serie de Taylor de $\\exp(ix)$.\n",
    "\n",
    "4. Verifique a formula de Euler $e^{ix}=\\cos(x)+i\\sin(x)$."
   ]
  },
  {
   "cell_type": "code",
   "execution_count": null,
   "metadata": {
    "collapsed": false,
    "jupyter": {
     "outputs_hidden": false
    }
   },
   "outputs": [],
   "source": []
  },
  {
   "cell_type": "code",
   "execution_count": null,
   "metadata": {
    "collapsed": false,
    "jupyter": {
     "outputs_hidden": false
    }
   },
   "outputs": [],
   "source": []
  },
  {
   "cell_type": "code",
   "execution_count": null,
   "metadata": {
    "collapsed": false,
    "jupyter": {
     "outputs_hidden": false
    }
   },
   "outputs": [],
   "source": []
  },
  {
   "cell_type": "code",
   "execution_count": null,
   "metadata": {
    "collapsed": false,
    "jupyter": {
     "outputs_hidden": false
    }
   },
   "outputs": [],
   "source": []
  }
 ],
 "metadata": {
  "kernelspec": {
   "display_name": "SageMath 9.2",
   "language": "sage",
   "name": "sagemath"
  },
  "language_info": {
   "codemirror_mode": {
    "name": "ipython",
    "version": 3
   },
   "file_extension": ".py",
   "mimetype": "text/x-python",
   "name": "python",
   "nbconvert_exporter": "python",
   "pygments_lexer": "ipython3",
   "version": "3.9.1"
  }
 },
 "nbformat": 4,
 "nbformat_minor": 4
}
